{
 "cells": [
  {
   "cell_type": "code",
   "execution_count": null,
   "id": "9dc6848c-3c91-4e97-a40a-7cb2bb71fc05",
   "metadata": {},
   "outputs": [],
   "source": [
    "import subprocess\n",
    "import json\n",
    "\n",
    "def ask_llama(prompt, model_name=\"llama3\"):\n",
    "    result = subprocess.run(\n",
    "        [\"ollama\", \"run\", model_name],\n",
    "        input=prompt.encode(),\n",
    "        stdout=subprocess.PIPE,\n",
    "        stderr=subprocess.PIPE\n",
    "    )\n",
    "    return result.stdout.decode().strip()\n",
    "\n",
    "def parse_instruction(instruction):\n",
    "    prompt = f\"\"\"\n",
    "You are an assistant that extracts structured JSON commands from user requests.\n",
    "\n",
    "User input: \"{instruction}\"\n",
    "\n",
    "Return a JSON object with:\n",
    "- \"task\": the requested action (e.g., \"detect cars\")\n",
    "- \"start_time\": time range start (e.g., \"11:00\")\n",
    "- \"end_time\": time range end (e.g., \"11:05\")\n",
    "\n",
    "Format:\n",
    "{{\n",
    "  \"task\": \"...\",\n",
    "  \"start_time\": \"...\",\n",
    "  \"end_time\": \"...\"\n",
    "}}\n",
    "\n",
    "Now return only the JSON, no explanation.\n",
    "\"\"\"\n",
    "    response = ask_llama(prompt)\n",
    "    try:\n",
    "        return json.loads(response)\n",
    "    except json.JSONDecodeError:\n",
    "        print(\"⚠️ LLaMA did not return valid JSON:\")\n",
    "        print(response)\n",
    "        return None\n"
   ]
  }
 ],
 "metadata": {
  "kernelspec": {
   "display_name": "gputest",
   "language": "python",
   "name": "gputest"
  },
  "language_info": {
   "codemirror_mode": {
    "name": "ipython",
    "version": 3
   },
   "file_extension": ".py",
   "mimetype": "text/x-python",
   "name": "python",
   "nbconvert_exporter": "python",
   "pygments_lexer": "ipython3",
   "version": "3.10.11"
  }
 },
 "nbformat": 4,
 "nbformat_minor": 5
}
