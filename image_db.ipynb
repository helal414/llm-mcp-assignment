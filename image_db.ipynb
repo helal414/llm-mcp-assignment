{
 "cells": [
  {
   "cell_type": "code",
   "execution_count": null,
   "id": "1123c07a-accc-431a-8fa4-6feff3435d48",
   "metadata": {},
   "outputs": [],
   "source": [
    "from datetime import datetime\n",
    "\n",
    "class ImageDB:\n",
    "    def __init__(self, image_names):\n",
    "        self.images = image_names\n",
    "\n",
    "    def _extract_time(self, image_name):\n",
    "        time_part = image_name.replace(\"image_\", \"\").replace(\".jpg\", \"\")\n",
    "        return datetime.strptime(time_part, \"%H%M\").time()\n",
    "\n",
    "    def filter_by_time(self, start_time_str, end_time_str):\n",
    "        start = datetime.strptime(start_time_str, \"%H:%M\").time()\n",
    "        end = datetime.strptime(end_time_str, \"%H:%M\").time()\n",
    "        return [img for img in self.images if start <= self._extract_time(img) <= end]\n"
   ]
  }
 ],
 "metadata": {
  "kernelspec": {
   "display_name": "gputest",
   "language": "python",
   "name": "gputest"
  },
  "language_info": {
   "codemirror_mode": {
    "name": "ipython",
    "version": 3
   },
   "file_extension": ".py",
   "mimetype": "text/x-python",
   "name": "python",
   "nbconvert_exporter": "python",
   "pygments_lexer": "ipython3",
   "version": "3.10.11"
  }
 },
 "nbformat": 4,
 "nbformat_minor": 5
}
