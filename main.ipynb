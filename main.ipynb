{
 "cells": [
  {
   "cell_type": "code",
   "execution_count": null,
   "id": "95fe84f1-c379-4c24-84d8-9782e6958787",
   "metadata": {},
   "outputs": [],
   "source": [
    "from parse_command import parse_instruction\n",
    "from image_db import ImageDB\n",
    "from yolo_detector import YoloDetector\n",
    "\n",
    "# שלב 1: פקודת טקסט\n",
    "instruction = \"detect all cars in images between 11:00 and 11:05\"\n",
    "parsed = parse_instruction(instruction)\n",
    "\n",
    "if not parsed:\n",
    "    print(\"Could not parse the instruction.\")\n",
    "    exit()\n",
    "\n",
    "# שלב 2: סינון לפי זמן\n",
    "image_names = [\n",
    "    \"image_1058.jpg\",\n",
    "    \"image_1101.jpg\",\n",
    "    \"image_1103.jpg\",\n",
    "    \"image_1106.jpg\",\n",
    "    \"image_1110.jpg\"\n",
    "]\n",
    "db = ImageDB(image_names)\n",
    "filtered_by_time = db.filter_by_time(parsed[\"start_time\"], parsed[\"end_time\"])\n",
    "\n",
    "# שלב 3: סינון לפי רכבים \n",
    "known_detections = {\n",
    "    \"image_1101.jpg\": [\"car\", \"person\"],\n",
    "    \"image_1103.jpg\": [\"dog\"],\n",
    "    \"image_1106.jpg\": [\"car\"],\n",
    "}\n",
    "detector = YoloDetector(known_detections)\n",
    "final_images = detector.filter_images_with_cars(filtered_by_time)\n",
    "\n",
    "print(\"\\nFinal images with cars in the time range:\")\n",
    "print(final_images)\n"
   ]
  }
 ],
 "metadata": {
  "kernelspec": {
   "display_name": "Python (py310)",
   "language": "python",
   "name": "py310"
  },
  "language_info": {
   "codemirror_mode": {
    "name": "ipython",
    "version": 3
   },
   "file_extension": ".py",
   "mimetype": "text/x-python",
   "name": "python",
   "nbconvert_exporter": "python",
   "pygments_lexer": "ipython3",
   "version": "3.10.15"
  }
 },
 "nbformat": 4,
 "nbformat_minor": 5
}
