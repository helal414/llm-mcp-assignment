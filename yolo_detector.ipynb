{
 "cells": [
  {
   "cell_type": "code",
   "execution_count": null,
   "id": "96826778-9cd2-487a-8208-7670ad43473a",
   "metadata": {},
   "outputs": [],
   "source": [
    "class YoloDetector:\n",
    "    def __init__(self, known_detections=None):\n",
    "        self.known = known_detections or {}\n",
    "\n",
    "    def detect(self, image_name):\n",
    "        return \"car\" in self.known.get(image_name, [])\n",
    "\n",
    "    def filter_images_with_cars(self, image_list):\n",
    "        return [img for img in image_list if self.detect(img)]\n"
   ]
  }
 ],
 "metadata": {
  "kernelspec": {
   "display_name": "gputest",
   "language": "python",
   "name": "gputest"
  },
  "language_info": {
   "codemirror_mode": {
    "name": "ipython",
    "version": 3
   },
   "file_extension": ".py",
   "mimetype": "text/x-python",
   "name": "python",
   "nbconvert_exporter": "python",
   "pygments_lexer": "ipython3",
   "version": "3.10.11"
  }
 },
 "nbformat": 4,
 "nbformat_minor": 5
}
